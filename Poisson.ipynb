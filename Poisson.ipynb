{
 "cells": [
  {
   "cell_type": "markdown",
   "metadata": {},
   "source": [
    "# Poisson 分佈"
   ]
  },
  {
   "cell_type": "code",
   "execution_count": 2,
   "metadata": {},
   "outputs": [],
   "source": [
    "import math\n",
    "import matplotlib.pyplot as plt"
   ]
  },
  {
   "cell_type": "markdown",
   "metadata": {},
   "source": [
    "### #PS.lamb : lambda 因為與某函數名字相同，故無法使用"
   ]
  },
  {
   "cell_type": "code",
   "execution_count": 9,
   "metadata": {},
   "outputs": [],
   "source": [
    "class Poisson:\n",
    "    def __init__(self, n=0, p=0, lamb=0):\n",
    "        self.n = n\n",
    "        self.p = p\n",
    "        if (self.n == 0) and (self.p == 0):    # 可直接用 lamb 做引數(但不能繪圖)\n",
    "            self.lamb = lamb\n",
    "        else:\n",
    "            self.lamb = n * p           \n",
    "        self.prob_0 = math.exp(-self.lamb)     # P(x=0)\n",
    "\n",
    "\n",
    "\n",
    "    # 繪出所有 P(X=i) 分佈的折線圖 \n",
    "    def draw_dis(self, graph = \"line_graph\" ):\n",
    "\n",
    "        if (self.n == 0) or (self.p == 0):                      # 如果初始引數為 lamb，則無法繪圖\n",
    "            print(\"the input is lamb, can't draw graph!!\")\n",
    "        else:\n",
    "            prob_list = []\n",
    "            prob_list.append(self.prob_0)\n",
    "\n",
    "            # 計算 X = 1-n 所有的P(X)\n",
    "            for i in range( 1, self.n + 1 ):\n",
    "                prob_i = self.Prob( \"=\", i )\n",
    "                prob_list.append( prob_i )\n",
    "\n",
    "            if graph == \"line_graph\":\n",
    "                # 繪出折線圖\n",
    "                plt.figure(figsize=(11,5))\n",
    "                plt.title(\"Poisson\", fontsize=30)\n",
    "                plt.scatter( range( self.n + 1 ), prob_list, color='red' , s=80 )\n",
    "                plt.plot( range( self.n + 1 ), prob_list , linewidth=3, color='red' )\n",
    "                # plt.xticks( range(0, self.n+1) )\n",
    "                plt.xlabel(\"X=i\", fontsize=22)\n",
    "                plt.ylabel(\"P(X=i)\", fontsize=22)\n",
    "                plt.show()\n",
    "\n",
    "            elif graph == \"bar_graph\":\n",
    "                # 繪出長條圖\n",
    "                plt.figure(figsize=(11,5))\n",
    "                plt.title(\"Poisson\", fontsize=30)\n",
    "                plt.bar( range( self.n + 1 ), prob_list, color='green' )\n",
    "                plt.xticks( range(0, self.n+1) )\n",
    "                plt.xlabel(\"X=i\", fontsize=22)\n",
    "                plt.ylabel(\"P(X=i)\", fontsize=22)\n",
    "                plt.show()\n",
    "\n",
    "\n",
    "\n",
    "    # 利用遞迴計算出指定的 P(X=i)\n",
    "    def Prob(self, state, i):\n",
    "        # 給定初值 P(x=0)\n",
    "        prob_i = self.prob_0\n",
    "        \n",
    "        # P( X == i )\n",
    "        if state == \"=\":\n",
    "            if i == 0 :                       # 如果 i=0\n",
    "                return round( prob_i, 4)    # 輸出小數點後4位置 \n",
    "            else:                           # i != 0\n",
    "                # 計算遞迴\n",
    "                for j in range(i):\n",
    "                    prob_i = prob_i * ( self.lamb / ( j + 1 ) )\n",
    "                return round( prob_i, 4)    \n",
    "        \n",
    "        # P( X < i )\n",
    "        elif state == \"<\":\n",
    "            if i == 0:\n",
    "                return 0\n",
    "            else:\n",
    "                prob_sum = prob_i\n",
    "                for k in range( 1, i ):\n",
    "                    for j in range(k):\n",
    "                        prob_i = prob_i * ( self.lamb / ( j + 1 ) )\n",
    "                    prob_sum = prob_sum + prob_i    # 加總 prob_i\n",
    "                    prob_i = self.prob_0            # 重設 prob_i\n",
    "                return round( prob_sum, 4)\n",
    "\n",
    "        # P( X <= i )\n",
    "        elif state == \"<=\":\n",
    "            if i == 0:\n",
    "                return prob_i\n",
    "            else:\n",
    "                prob_sum = prob_i\n",
    "                for k in range( 1, i+1 ):\n",
    "                    for j in range(k):\n",
    "                        prob_i = prob_i * ( self.lamb / ( j + 1 ) )\n",
    "                    prob_sum = prob_sum + prob_i\n",
    "                    prob_i = self.prob_0\n",
    "                return round( prob_sum, 4)\n",
    "\n",
    "        # P( X > i )\n",
    "        elif state == \">\":\n",
    "            if i == 0:\n",
    "                return 1 - prob_i\n",
    "            else:\n",
    "                prob_sum = prob_i\n",
    "                for k in range( 1, i+1 ):\n",
    "                    for j in range(k):\n",
    "                        prob_i = prob_i * ( self.lamb / ( j + 1 ) )\n",
    "                    prob_sum = prob_sum + prob_i\n",
    "                    prob_i = self.prob_0\n",
    "\n",
    "                prob_sum = 1 - prob_sum             # P(X > i) = (1 - P(X <= i) )\n",
    "                return round( prob_sum, 4)\n",
    "\n",
    "        # P( X >= i )\n",
    "        elif state == \">=\":\n",
    "            if i == 0:\n",
    "                return 1\n",
    "            else:\n",
    "                prob_sum = prob_i\n",
    "                for k in range( 1, i ):\n",
    "                    for j in range(k):\n",
    "                        prob_i = prob_i * ( self.lamb / ( j + 1 ) )\n",
    "                    prob_sum = prob_sum + prob_i\n",
    "                    prob_i = self.prob_0\n",
    "\n",
    "                prob_sum = 1 - prob_sum             # P(X >= i) = (1 - P(X < i) )\n",
    "                return round( prob_sum, 4)\n"
   ]
  },
  {
   "cell_type": "markdown",
   "metadata": {},
   "source": [
    "# 類別使用 :\n",
    "### 1.初始化 Poisson 類別 : Poisson( n, p, lambda=0 )\n",
    "### n為實驗進行次數，p為每次成功機率，lambda 為(n*p)通常不用輸入，除非沒n,p只有lambda\n",
    "##\n"
   ]
  },
  {
   "cell_type": "markdown",
   "metadata": {},
   "source": [
    "##\n",
    "# 函數使用 :\n",
    "### 1--類別變數.Prob( state, i ) : 可得到 P(x state i) 值。 [state 為X要大於or小於,等於i]\n",
    "###\n",
    "### 2--類別變數.draw_dis(graph) : 可以繪出所有x=i和其p(x=i)關係圖。[graph 為要繪製的圖，default=折線圖, \"bar_graph\"為長條圖]"
   ]
  },
  {
   "cell_type": "markdown",
   "metadata": {},
   "source": [
    "## 例題實踐 (Ex7a)"
   ]
  },
  {
   "cell_type": "code",
   "execution_count": 10,
   "metadata": {},
   "outputs": [
    {
     "name": "stdout",
     "output_type": "stream",
     "text": [
      " P(X <= 2) = 0.7358\n"
     ]
    },
    {
     "data": {
      "image/png": "[encoded data removed]",
      "text/plain": [
       "<Figure size 792x360 with 1 Axes>"
      ]
     },
     "metadata": {
      "needs_background": "light"
     },
     "output_type": "display_data"
    },
    {
     "data": {
      "image/png": "[encoded data removed]",
      "text/plain": [
       "<Figure size 792x360 with 1 Axes>"
      ]
     },
     "metadata": {
      "needs_background": "light"
     },
     "output_type": "display_data"
    }
   ],
   "source": [
    "data1 = Poisson( 10, 0.1 )    # n=10、p=0.1\n",
    "p = data1.Prob( \"<=\", 1)      # P( x <= 1 )\n",
    "print( f\" P(X <= 2) = {p}\" )\n",
    "\n",
    "# x=i & P(x=i) 圖\n",
    "data1.draw_dis()\n",
    "data1.draw_dis(graph=\"bar_graph\")"
   ]
  },
  {
   "cell_type": "code",
   "execution_count": 17,
   "metadata": {},
   "outputs": [
    {
     "data": {
      "image/png": "[encoded data removed]",
      "text/plain": [
       "<Figure size 792x360 with 1 Axes>"
      ]
     },
     "metadata": {
      "needs_background": "light"
     },
     "output_type": "display_data"
    },
    {
     "name": "stdout",
     "output_type": "stream",
     "text": [
      "0.1077\n"
     ]
    }
   ],
   "source": [
    "data = Poisson( n=80, p=0.75 )\n",
    "data.draw_dis()\n",
    "print(data.Prob(\"<=\",i=50))"
   ]
  },
  {
   "cell_type": "markdown",
   "metadata": {},
   "source": [
    "##\n",
    "## 例題實踐 (Ex7b)"
   ]
  },
  {
   "cell_type": "code",
   "execution_count": 6,
   "metadata": {},
   "outputs": [
    {
     "name": "stdout",
     "output_type": "stream",
     "text": [
      "the input is lamb, can't draw graph!!\n",
      " P(X <= 2) = 0.3799\n"
     ]
    }
   ],
   "source": [
    "data2 = Poisson(lamb=3.2)  # 只給lambda值\n",
    "data2.draw_dis()\n",
    "p = data2.Prob(\"<=\",2)     # P( x <= 2 )\n",
    "print( f\" P(X <= 2) = {p}\" )"
   ]
  },
  {
   "cell_type": "code",
   "execution_count": null,
   "metadata": {},
   "outputs": [],
   "source": []
  }
 ],
 "metadata": {
  "interpreter": {
   "hash": "02963059bcfe9ec13866d8bbde8ec3e30f8393cff7234988bdd62b85a7bebcd1"
  },
  "kernelspec": {
   "display_name": "Python 3.7.6 64-bit ('base': conda)",
   "language": "python",
   "name": "python3"
  },
  "language_info": {
   "codemirror_mode": {
    "name": "ipython",
    "version": 3
   },
   "file_extension": ".py",
   "mimetype": "text/x-python",
   "name": "python",
   "nbconvert_exporter": "python",
   "pygments_lexer": "ipython3",
   "version": "3.7.6"
  },
  "orig_nbformat": 4
 },
 "nbformat": 4,
 "nbformat_minor": 2
}
